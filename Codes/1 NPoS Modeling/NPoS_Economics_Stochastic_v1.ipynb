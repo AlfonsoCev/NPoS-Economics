{
 "cells": [
  {
   "cell_type": "markdown",
   "metadata": {},
   "source": [
    "#  NPoS Economics - Eray Sabancilar\n",
    "## 1. An Agent Based Stochastic Microeconomic Model: V1"
   ]
  },
  {
   "cell_type": "code",
   "execution_count": null,
   "metadata": {},
   "outputs": [],
   "source": [
    "# Input parameters\n",
    "# s: slot time\n",
    "# e: epoch time\n",
    "# T: era\n",
    "# lambda_v: validator points rate\n",
    "# mu_d, sigma_d: staking rate parameters\n",
    "# N_v: number of validators\n",
    "# N_n: number of nominators\n",
    "# P_T: total payout in era T\n",
    "# D: total number of dots outstanding in the beginning of the year\n",
    "\n",
    "# Functions\n",
    "# simulateEraNPoS(s,e,T,lambda_v, mu_d,N_v,N_n,P_T,D)\n",
    "# Outputs: \n",
    "# staking rate: x\n",
    "#\n",
    "# simulateAnnualNPoS ()\n",
    "# Outputs\n",
    "# To be defined.\n"
   ]
  },
  {
   "cell_type": "code",
   "execution_count": 4,
   "metadata": {},
   "outputs": [
    {
     "data": {
      "image/png": "[encoded data removed]",
      "text/plain": [
       "<matplotlib.figure.Figure at 0x1084fd080>"
      ]
     },
     "metadata": {},
     "output_type": "display_data"
    },
    {
     "name": "stdout",
     "output_type": "stream",
     "text": [
      "Total points\n"
     ]
    },
    {
     "data": {
      "text/plain": [
       "150335"
      ]
     },
     "metadata": {},
     "output_type": "display_data"
    },
    {
     "name": "stdout",
     "output_type": "stream",
     "text": [
      "Total staked dots\n"
     ]
    },
    {
     "data": {
      "text/plain": [
       "564785.6372849495"
      ]
     },
     "metadata": {},
     "output_type": "display_data"
    },
    {
     "data": {
      "image/png": "[encoded data removed]",
      "text/plain": [
       "<matplotlib.figure.Figure at 0x10ed16b00>"
      ]
     },
     "metadata": {},
     "output_type": "display_data"
    },
    {
     "name": "stdout",
     "output_type": "stream",
     "text": [
      "Total Dots Outstanding\n"
     ]
    },
    {
     "data": {
      "text/plain": [
       "1000000"
      ]
     },
     "metadata": {},
     "output_type": "display_data"
    },
    {
     "name": "stdout",
     "output_type": "stream",
     "text": [
      "Staking Rate\n"
     ]
    },
    {
     "data": {
      "text/plain": [
       "0.5647856372849496"
      ]
     },
     "metadata": {},
     "output_type": "display_data"
    },
    {
     "name": "stdout",
     "output_type": "stream",
     "text": [
      "Interest Rate\n"
     ]
    },
    {
     "data": {
      "text/plain": [
       "0.17705832690916554"
      ]
     },
     "metadata": {},
     "output_type": "display_data"
    },
    {
     "name": "stdout",
     "output_type": "stream",
     "text": [
      "Inflation Rate\n"
     ]
    },
    {
     "data": {
      "text/plain": [
       "0.1"
      ]
     },
     "metadata": {},
     "output_type": "display_data"
    }
   ],
   "source": [
    "import numpy as np\n",
    "import matplotlib.pyplot as plt\n",
    "\n",
    "# Validator points parameters\n",
    "# slot time 6 sec\n",
    "s = 6 \n",
    "# epoch time 4hrs\n",
    "e = 4*60*s \n",
    "# era time 6 epochs = 24 hrs\n",
    "T = 6*e \n",
    "# Validator points rate\n",
    "lambda_v = 25/e \n",
    "# number of validators\n",
    "N_v = 1000 \n",
    "\n",
    "# Generating samples for c_v (homogenous Poisson random variable)\n",
    "c_v = np.random.poisson(lambda_v*T, N_v)\n",
    "\n",
    "# Distribution of validator points at the end of an era\n",
    "plt.hist(c_v, 100)\n",
    "plt.xlabel('Validator Points')\n",
    "plt.ylabel('Number of Validators')\n",
    "plt.show()\n",
    "\n",
    "mu = np.mean(c_v)\n",
    "sigma = np.std(c_v)\n",
    "\n",
    "# Total number of points in era T\n",
    "C = np.sum(c_v)\n",
    "print('Total points')\n",
    "display(C)\n",
    "\n",
    "# Payout in era T\n",
    "P_T = 1000 \n",
    "\n",
    "# Payout to validator v and their nominators\n",
    "P_v = (c_v/C)*P_T\n",
    "\n",
    "# Staked dots by nominator n\n",
    "# Staking Parameters\n",
    "mu_d = 5.8;\n",
    "sigma_d = 1;\n",
    "# Number of nominators: For simplicity assume that the validators are the nominators. \n",
    "N_n = N_v;\n",
    "# Generating a standard normal random variables\n",
    "z = np.random.normal(0, 1, N_n)\n",
    "# Generating log-normally distributed nominator stakes\n",
    "d_n = np.exp(mu_d + sigma_d*z)\n",
    "# Total stakes\n",
    "d_tot = sum(d_n)\n",
    "print('Total staked dots')\n",
    "display(d_tot)\n",
    "\n",
    "# Distribution of nominator stakes\n",
    "plt.hist(d_n, 100)\n",
    "plt.xlabel('Nominator Stakes')\n",
    "plt.ylabel('Number of Nominators')\n",
    "plt.show()\n",
    "\n",
    "# Staking Rate\n",
    "# Parameters\n",
    "# Total number of dots outstanding\n",
    "D = 1*10**6\n",
    "print('Total Dots Outstanding')\n",
    "display(D)\n",
    "x = d_tot/D\n",
    "print('Staking Rate')\n",
    "display(x)\n",
    "\n",
    "# Interest rate\n",
    "i = (1/(x*D))*P_T\n",
    "print('Interest Rate')\n",
    "display(i*100)\n",
    "\n",
    "# Inflation rate\n",
    "pi = P_T/D\n",
    "print('Inflation Rate')\n",
    "display(pi*100)"
   ]
  }
 ],
 "metadata": {
  "kernelspec": {
   "display_name": "Python 3",
   "language": "python",
   "name": "python3"
  },
  "language_info": {
   "codemirror_mode": {
    "name": "ipython",
    "version": 3
   },
   "file_extension": ".py",
   "mimetype": "text/x-python",
   "name": "python",
   "nbconvert_exporter": "python",
   "pygments_lexer": "ipython3",
   "version": "3.6.4"
  }
 },
 "nbformat": 4,
 "nbformat_minor": 2
}
